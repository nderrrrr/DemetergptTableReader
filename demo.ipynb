{
 "cells": [
  {
   "cell_type": "code",
   "execution_count": 1,
   "metadata": {},
   "outputs": [],
   "source": [
    "from transformers import (\n",
    "    AutoModelForCausalLM,\n",
    "    AutoTokenizer,\n",
    "    GenerationConfig,\n",
    ")\n",
    "import torch"
   ]
  },
  {
   "cell_type": "code",
   "execution_count": 2,
   "metadata": {},
   "outputs": [
    {
     "name": "stdout",
     "output_type": "stream",
     "text": [
      "cuda\n"
     ]
    }
   ],
   "source": [
    "device = torch.device('cuda' if torch.cuda.is_available() else 'cpu')\n",
    "print(device)"
   ]
  },
  {
   "cell_type": "code",
   "execution_count": 3,
   "metadata": {},
   "outputs": [
    {
     "name": "stderr",
     "output_type": "stream",
     "text": [
      "2024-06-17 08:08:26.453980: I external/local_tsl/tsl/cuda/cudart_stub.cc:32] Could not find cuda drivers on your machine, GPU will not be used.\n",
      "2024-06-17 08:08:26.484476: I tensorflow/core/platform/cpu_feature_guard.cc:210] This TensorFlow binary is optimized to use available CPU instructions in performance-critical operations.\n",
      "To enable the following instructions: AVX2 FMA, in other operations, rebuild TensorFlow with the appropriate compiler flags.\n",
      "2024-06-17 08:08:27.124712: W tensorflow/compiler/tf2tensorrt/utils/py_utils.cc:38] TF-TRT Warning: Could not find TensorRT\n"
     ]
    },
    {
     "data": {
      "application/vnd.jupyter.widget-view+json": {
       "model_id": "af7549a23d934bad8a7ba0dc04cd9272",
       "version_major": 2,
       "version_minor": 0
      },
      "text/plain": [
       "Loading checkpoint shards:   0%|          | 0/2 [00:00<?, ?it/s]"
      ]
     },
     "metadata": {},
     "output_type": "display_data"
    },
    {
     "name": "stdout",
     "output_type": "stream",
     "text": [
      "load model complete\n"
     ]
    }
   ],
   "source": [
    "FINE_TUNED_MODEL_NAME = 'model/taide_markdown_v5-full'\n",
    "fine_tuned_tokenizer = AutoTokenizer.from_pretrained(FINE_TUNED_MODEL_NAME)\n",
    "fine_tuned_model = AutoModelForCausalLM.from_pretrained(FINE_TUNED_MODEL_NAME, load_in_8bit=True, device_map='auto')\n",
    "\n",
    "print('load model complete')"
   ]
  },
  {
   "cell_type": "code",
   "execution_count": 4,
   "metadata": {},
   "outputs": [],
   "source": [
    "def get_taide_prompt(document: str, question: str, version: str = 'llama3') -> str:\n",
    "    \"\"\"產生TAIDE針對農業病蟲害問題的prompt。\"\"\"\n",
    "    if version == \"llama2\":\n",
    "        system_prompt = '你是一位農業病蟲害防治專家，你將看到一份markdown格式的表格，你的任務是根據此表格尋找答案並回答，回答時只需要輸出答案，不需輸出其他資訊。'\n",
    "        user_message = f\"問題：\\n{question}\\n\\n表格：\\n{document}\\n\\n\"\n",
    "        return f\"[INST] <<SYS>>\\n{system_prompt}\\n<</SYS>>\\n\\n{user_message} [/INST]\"   \n",
    "     \n",
    "    elif version == \"llama3\":\n",
    "        system_prompt = \"你是一個來自台灣的AI助理，你的名字是 TAIDE，樂於以台灣人的立場幫助使用者，會用繁體中文回答問題。\"\n",
    "        user_message = f\"你是一位農業病蟲害防治專家，你將看到一份markdown格式的表格，你的任務是根據此表格尋找答案並回答，回答時只需要輸出答案，不需輸出其他資訊。\\n問題:\\n{question}\\n\\n表格:\\n{document}\"\n",
    "        return f\"<|begin_of_text|><|start_header_id|>system<|end_header_id|>{system_prompt}<|eot_id|><|start_header_id|>user<|end_header_id|>{user_message}<|eot_id|><|start_header_id|>assistant<|end_header_id|>\"\n",
    "    \n",
    "    else:\n",
    "        user_message = f\"你是一位農業病蟲害防治專家，你將看到一份markdown格式的表格，你的任務是根據此表格尋找答案並回答，回答時只需要輸出答案，不需輸出其他資訊。\\n問題:\\n{question}\\n\\n表格:\\n{document}\"\n",
    "        return user_message\n",
    "    \n",
    "def get_taide_reply(tokenizer, model, prompt: str) -> str:\n",
    "    \"\"\"使用TAIDE模型生成回答。\"\"\"\n",
    "    model.eval()\n",
    "    inputs = tokenizer(prompt, add_special_tokens=False, return_tensors=\"pt\").to(device)\n",
    "    generation_config = GenerationConfig(\n",
    "        max_new_tokens=300,\n",
    "        top_k=50,\n",
    "        num_beams=2,\n",
    "        num_return_sequences=1,\n",
    "        early_stopping=True,\n",
    "    )\n",
    "    outputs = model.generate(**inputs, generation_config=generation_config)\n",
    "    reply = tokenizer.batch_decode(outputs[:, inputs.input_ids.size(1) :], skip_special_tokens=True)[0]\n",
    "    # reply = tokenizer.batch_decode(outputs, skip_special_tokens=True)[0]\n",
    "    return reply"
   ]
  },
  {
   "cell_type": "markdown",
   "metadata": {},
   "source": [
    "### 其他 積穀害蟲 積穀害蟲的防治方法\n",
    "\n",
    "防除方法：\n",
    "（一）空倉消毒時，任選下列一種方法處理之。\n",
    "\n",
    "| 藥劑名稱 | 每百立方公尺施藥量 | 稀釋倍數(倍) | 施藥方法 | 注意事項 |\n",
    "|:--------------------------|:----------------|:---------------|:-------------|:---------------------------------------------------|\n",
    "| 25%百滅寧可濕性粉劑(Permethrin) | | 100 | 以藥液噴施。 | 施藥31天後，稻穀始可出售。 |\n",
    "| 10%巴賽松燻煙劑(Phoxim) | 0.5公升 | | 密閉煙燻2天。 |\n",
    "| 10%陶斯松燻煙劑(Chlorpyrifos) | 0.5公升 | | 密閉煙燻2天。 | 施藥7天後，稻穀始可出售。 |\n",
    "| 50%巴賽松乳劑(Phoxim) | | 40 | 以藥液噴施 |\n",
    "| 50%無臭馬拉松乳劑(Malathion) | | 40 | 以藥液噴施。 |\n"
   ]
  },
  {
   "cell_type": "code",
   "execution_count": 5,
   "metadata": {},
   "outputs": [
    {
     "name": "stdout",
     "output_type": "stream",
     "text": [
      "Question: 25%百滅寧可濕性粉劑的稀釋倍數是多少？\n",
      "Answer: 100\n",
      "Model Reply: 100。\n",
      "\n",
      "Question: 10%巴賽松燻煙劑的施藥方法是什麼？\n",
      "Answer: 密閉煙燻2天\n",
      "Model Reply: 10%巴賽松燻煙劑的施藥方法是密閉煙燻2天。\n",
      "\n",
      "Question: 10%陶斯松燻煙劑的施藥量？\n",
      "Answer: 0.5公升\n",
      "Model Reply: 0.5公升。\n",
      "\n",
      "Question: 有哪些藥劑可以防治積穀害蟲？\n",
      "Answer: 25%百滅寧可濕性粉劑、10%巴賽松燻煙劑、10%陶斯松燻煙劑、50%巴賽松乳劑、50%無臭馬拉松乳劑\n",
      "Model Reply: 25%百滅寧可濕性粉劑、10%巴賽松燻煙劑、10%陶斯松燻煙劑、50%巴賽松乳劑、50%無臭馬拉松乳劑。\n",
      "\n"
     ]
    }
   ],
   "source": [
    "title = [\"其他\", \"積穀害蟲\", \"積穀害蟲的防治方法\"]\n",
    "document = \"防除方法：\\n（一）空倉消毒時，任選下列一種方法處理之。\\n|藥劑名稱 | 每百立方公尺施藥量 | 稀釋倍數(倍) | 施藥方法 | 注意事項\\n|:----------------------|:------------|:-----------|:-----------|:---------------------------------------------------|\\n25%百滅寧可濕性粉劑(Permethrin)\\t　| | 100| 以藥液噴施。| 施藥31天後，稻穀始可出售。\\n10%巴賽松燻煙劑(Phoxim)| 0.5公升||  密閉煙燻2天。\\t　\\n10%陶斯松燻煙劑(Chlorpyrifos)| 0.5公升| | 密閉煙燻2天。| 施藥7天後，稻穀始可出售。\\n50%巴賽松乳劑(Phoxim)| | 40| 以藥液噴施\\n50%無臭馬拉松乳劑(Malathion)| | 40| \\t以藥液噴施。\"\n",
    "input_context = \" \".join(entity for entity in title) + \"\\n\" + document\n",
    "\n",
    "test_data = [\n",
    "    {\"question\": \"25%百滅寧可濕性粉劑的稀釋倍數是多少？\", \"answer\": \"100\"},\n",
    "    {\"question\": \"10%巴賽松燻煙劑的施藥方法是什麼？\", \"answer\": \"密閉煙燻2天\"},\n",
    "    {\"question\": \"10%陶斯松燻煙劑的施藥量？\", \"answer\": \"0.5公升\"},\n",
    "    {\"question\": \"有哪些藥劑可以防治積穀害蟲？\", \"answer\": \"25%百滅寧可濕性粉劑、10%巴賽松燻煙劑、10%陶斯松燻煙劑、50%巴賽松乳劑、50%無臭馬拉松乳劑\"}\n",
    "]\n",
    "\n",
    "for data in test_data:\n",
    "    prompt = get_taide_prompt(input_context, data['question'], version='llama3')\n",
    "    fine_tuned_answer = get_taide_reply(fine_tuned_tokenizer, fine_tuned_model, prompt)\n",
    "    print(f\"Question: {data['question']}\")\n",
    "    print(f\"Answer: {data['answer']}\")\n",
    "    print(f\"Model Reply: {fine_tuned_answer}\")\n",
    "    print(\"\")"
   ]
  }
 ],
 "metadata": {
  "kernelspec": {
   "display_name": "Python 3 (ipykernel)",
   "language": "python",
   "name": "python3"
  },
  "language_info": {
   "codemirror_mode": {
    "name": "ipython",
    "version": 3
   },
   "file_extension": ".py",
   "mimetype": "text/x-python",
   "name": "python",
   "nbconvert_exporter": "python",
   "pygments_lexer": "ipython3",
   "version": "3.10.12"
  }
 },
 "nbformat": 4,
 "nbformat_minor": 2
}
